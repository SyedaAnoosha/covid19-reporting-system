{
 "cells": [
  {
   "cell_type": "code",
   "execution_count": 263,
   "metadata": {},
   "outputs": [
    {
     "name": "stdout",
     "output_type": "stream",
     "text": [
      "COVID-19 Data:\n",
      "        Date  Cases  Deaths  Recovered Travel_history  \\\n",
      "0  2/26/2020      1       0          0          China   \n",
      "1  2/26/2020      2       0          0    Iran/Taftan   \n",
      "2  2/29/2020      1       0          0          China   \n",
      "3  2/29/2020      1       0          0    Iran/Taftan   \n",
      "4   3/2/2020      1       0          0    Iran/Taftan   \n",
      "\n",
      "                      Province       City  \n",
      "0  Islamabad Capital Territory  Islamabad  \n",
      "1                        Sindh    Karachi  \n",
      "2  Islamabad Capital Territory  Islamabad  \n",
      "3                        Sindh    Karachi  \n",
      "4             Gilgit-Baltistan     Gilgit  \n",
      "\n",
      "City Coordinates Data:\n",
      "            City  Latitude (generated)  Longitude (generated)\n",
      "0     Abbottabad             34.150000              73.213800\n",
      "1         Astore             35.347533              74.861062\n",
      "2         Attock             33.772000              72.368000\n",
      "3          Badin             24.650000              68.833000\n",
      "4  Bahawal Nagar             30.550000              73.390000\n"
     ]
    }
   ],
   "source": [
    "import pandas as pd\n",
    "\n",
    "# Load the COVID-19 dataset\n",
    "covid_df = pd.read_csv('Dataset/PK COVID-19.csv')\n",
    "\n",
    "# Load the city coordinates dataset\n",
    "coord_df = pd.read_csv('Dataset/covid_cases_city_coordinates.csv', encoding='utf-8-sig')  # Fix encoding for special characters\n",
    "\n",
    "# Display the first few rows of each\n",
    "print(\"COVID-19 Data:\")\n",
    "print(covid_df.head())\n",
    "\n",
    "print(\"\\nCity Coordinates Data:\")\n",
    "print(coord_df.head())"
   ]
  },
  {
   "cell_type": "code",
   "execution_count": 264,
   "metadata": {},
   "outputs": [
    {
     "data": {
      "text/html": [
       "<div>\n",
       "<style scoped>\n",
       "    .dataframe tbody tr th:only-of-type {\n",
       "        vertical-align: middle;\n",
       "    }\n",
       "\n",
       "    .dataframe tbody tr th {\n",
       "        vertical-align: top;\n",
       "    }\n",
       "\n",
       "    .dataframe thead th {\n",
       "        text-align: right;\n",
       "    }\n",
       "</style>\n",
       "<table border=\"1\" class=\"dataframe\">\n",
       "  <thead>\n",
       "    <tr style=\"text-align: right;\">\n",
       "      <th></th>\n",
       "      <th>Cases</th>\n",
       "      <th>Deaths</th>\n",
       "      <th>Recovered</th>\n",
       "    </tr>\n",
       "  </thead>\n",
       "  <tbody>\n",
       "    <tr>\n",
       "      <th>count</th>\n",
       "      <td>847.000000</td>\n",
       "      <td>847.000000</td>\n",
       "      <td>847.000000</td>\n",
       "    </tr>\n",
       "    <tr>\n",
       "      <th>mean</th>\n",
       "      <td>9.935065</td>\n",
       "      <td>0.198347</td>\n",
       "      <td>2.520661</td>\n",
       "    </tr>\n",
       "    <tr>\n",
       "      <th>std</th>\n",
       "      <td>22.721862</td>\n",
       "      <td>0.790515</td>\n",
       "      <td>16.062577</td>\n",
       "    </tr>\n",
       "    <tr>\n",
       "      <th>min</th>\n",
       "      <td>0.000000</td>\n",
       "      <td>0.000000</td>\n",
       "      <td>0.000000</td>\n",
       "    </tr>\n",
       "    <tr>\n",
       "      <th>25%</th>\n",
       "      <td>1.000000</td>\n",
       "      <td>0.000000</td>\n",
       "      <td>0.000000</td>\n",
       "    </tr>\n",
       "    <tr>\n",
       "      <th>50%</th>\n",
       "      <td>3.000000</td>\n",
       "      <td>0.000000</td>\n",
       "      <td>0.000000</td>\n",
       "    </tr>\n",
       "    <tr>\n",
       "      <th>75%</th>\n",
       "      <td>8.000000</td>\n",
       "      <td>0.000000</td>\n",
       "      <td>0.000000</td>\n",
       "    </tr>\n",
       "    <tr>\n",
       "      <th>max</th>\n",
       "      <td>366.000000</td>\n",
       "      <td>10.000000</td>\n",
       "      <td>273.000000</td>\n",
       "    </tr>\n",
       "  </tbody>\n",
       "</table>\n",
       "</div>"
      ],
      "text/plain": [
       "            Cases      Deaths   Recovered\n",
       "count  847.000000  847.000000  847.000000\n",
       "mean     9.935065    0.198347    2.520661\n",
       "std     22.721862    0.790515   16.062577\n",
       "min      0.000000    0.000000    0.000000\n",
       "25%      1.000000    0.000000    0.000000\n",
       "50%      3.000000    0.000000    0.000000\n",
       "75%      8.000000    0.000000    0.000000\n",
       "max    366.000000   10.000000  273.000000"
      ]
     },
     "execution_count": 264,
     "metadata": {},
     "output_type": "execute_result"
    }
   ],
   "source": [
    "covid_df.describe()"
   ]
  },
  {
   "cell_type": "code",
   "execution_count": 265,
   "metadata": {},
   "outputs": [
    {
     "data": {
      "text/html": [
       "<div>\n",
       "<style scoped>\n",
       "    .dataframe tbody tr th:only-of-type {\n",
       "        vertical-align: middle;\n",
       "    }\n",
       "\n",
       "    .dataframe tbody tr th {\n",
       "        vertical-align: top;\n",
       "    }\n",
       "\n",
       "    .dataframe thead th {\n",
       "        text-align: right;\n",
       "    }\n",
       "</style>\n",
       "<table border=\"1\" class=\"dataframe\">\n",
       "  <thead>\n",
       "    <tr style=\"text-align: right;\">\n",
       "      <th></th>\n",
       "      <th>Latitude (generated)</th>\n",
       "      <th>Longitude (generated)</th>\n",
       "    </tr>\n",
       "  </thead>\n",
       "  <tbody>\n",
       "    <tr>\n",
       "      <th>count</th>\n",
       "      <td>92.000000</td>\n",
       "      <td>92.000000</td>\n",
       "    </tr>\n",
       "    <tr>\n",
       "      <th>mean</th>\n",
       "      <td>31.271885</td>\n",
       "      <td>71.453873</td>\n",
       "    </tr>\n",
       "    <tr>\n",
       "      <th>std</th>\n",
       "      <td>3.114107</td>\n",
       "      <td>2.380995</td>\n",
       "    </tr>\n",
       "    <tr>\n",
       "      <th>min</th>\n",
       "      <td>24.650000</td>\n",
       "      <td>61.580755</td>\n",
       "    </tr>\n",
       "    <tr>\n",
       "      <th>25%</th>\n",
       "      <td>29.322900</td>\n",
       "      <td>70.158291</td>\n",
       "    </tr>\n",
       "    <tr>\n",
       "      <th>50%</th>\n",
       "      <td>31.949500</td>\n",
       "      <td>71.659950</td>\n",
       "    </tr>\n",
       "    <tr>\n",
       "      <th>75%</th>\n",
       "      <td>33.732550</td>\n",
       "      <td>73.129800</td>\n",
       "    </tr>\n",
       "    <tr>\n",
       "      <th>max</th>\n",
       "      <td>36.273351</td>\n",
       "      <td>76.341063</td>\n",
       "    </tr>\n",
       "  </tbody>\n",
       "</table>\n",
       "</div>"
      ],
      "text/plain": [
       "       Latitude (generated)  Longitude (generated)\n",
       "count             92.000000              92.000000\n",
       "mean              31.271885              71.453873\n",
       "std                3.114107               2.380995\n",
       "min               24.650000              61.580755\n",
       "25%               29.322900              70.158291\n",
       "50%               31.949500              71.659950\n",
       "75%               33.732550              73.129800\n",
       "max               36.273351              76.341063"
      ]
     },
     "execution_count": 265,
     "metadata": {},
     "output_type": "execute_result"
    }
   ],
   "source": [
    "coord_df.describe()"
   ]
  },
  {
   "cell_type": "code",
   "execution_count": 266,
   "metadata": {},
   "outputs": [
    {
     "data": {
      "text/plain": [
       "Province\n",
       "Punjab                                298\n",
       "Khyber Pakhtunkhwa                    254\n",
       "Sindh                                 120\n",
       "Gilgit-Baltistan                       58\n",
       "Baluchistan                            36\n",
       "Federal Administration Tribal Area     32\n",
       "Islamabad Capital Territory            29\n",
       "Azad Jummu Kashmir                     18\n",
       "khyber Pakhtunkhwa                      2\n",
       "Name: count, dtype: int64"
      ]
     },
     "execution_count": 266,
     "metadata": {},
     "output_type": "execute_result"
    }
   ],
   "source": [
    "covid_df.Province.value_counts()"
   ]
  },
  {
   "cell_type": "code",
   "execution_count": 267,
   "metadata": {},
   "outputs": [
    {
     "data": {
      "text/plain": [
       "Date              0\n",
       "Cases             0\n",
       "Deaths            0\n",
       "Recovered         0\n",
       "Travel_history    0\n",
       "Province          0\n",
       "City              0\n",
       "dtype: int64"
      ]
     },
     "execution_count": 267,
     "metadata": {},
     "output_type": "execute_result"
    }
   ],
   "source": [
    "covid_df.isnull().sum()"
   ]
  },
  {
   "cell_type": "code",
   "execution_count": 268,
   "metadata": {},
   "outputs": [
    {
     "data": {
      "text/plain": [
       "City                      0\n",
       "Latitude (generated)     27\n",
       "Longitude (generated)    27\n",
       "dtype: int64"
      ]
     },
     "execution_count": 268,
     "metadata": {},
     "output_type": "execute_result"
    }
   ],
   "source": [
    "coord_df.isnull().sum()"
   ]
  },
  {
   "cell_type": "code",
   "execution_count": 269,
   "metadata": {},
   "outputs": [
    {
     "data": {
      "text/html": [
       "<div>\n",
       "<style scoped>\n",
       "    .dataframe tbody tr th:only-of-type {\n",
       "        vertical-align: middle;\n",
       "    }\n",
       "\n",
       "    .dataframe tbody tr th {\n",
       "        vertical-align: top;\n",
       "    }\n",
       "\n",
       "    .dataframe thead th {\n",
       "        text-align: right;\n",
       "    }\n",
       "</style>\n",
       "<table border=\"1\" class=\"dataframe\">\n",
       "  <thead>\n",
       "    <tr style=\"text-align: right;\">\n",
       "      <th></th>\n",
       "      <th>City</th>\n",
       "      <th>Latitude (generated)</th>\n",
       "      <th>Longitude (generated)</th>\n",
       "    </tr>\n",
       "  </thead>\n",
       "  <tbody>\n",
       "    <tr>\n",
       "      <th>8</th>\n",
       "      <td>Battagram</td>\n",
       "      <td>NaN</td>\n",
       "      <td>NaN</td>\n",
       "    </tr>\n",
       "    <tr>\n",
       "      <th>10</th>\n",
       "      <td>Bhambore</td>\n",
       "      <td>NaN</td>\n",
       "      <td>NaN</td>\n",
       "    </tr>\n",
       "    <tr>\n",
       "      <th>15</th>\n",
       "      <td>Chitral</td>\n",
       "      <td>NaN</td>\n",
       "      <td>NaN</td>\n",
       "    </tr>\n",
       "    <tr>\n",
       "      <th>16</th>\n",
       "      <td>Chitral Lower</td>\n",
       "      <td>NaN</td>\n",
       "      <td>NaN</td>\n",
       "    </tr>\n",
       "    <tr>\n",
       "      <th>17</th>\n",
       "      <td>Chitral Upper</td>\n",
       "      <td>NaN</td>\n",
       "      <td>NaN</td>\n",
       "    </tr>\n",
       "  </tbody>\n",
       "</table>\n",
       "</div>"
      ],
      "text/plain": [
       "             City  Latitude (generated)  Longitude (generated)\n",
       "8       Battagram                   NaN                    NaN\n",
       "10       Bhambore                   NaN                    NaN\n",
       "15        Chitral                   NaN                    NaN\n",
       "16  Chitral Lower                   NaN                    NaN\n",
       "17  Chitral Upper                   NaN                    NaN"
      ]
     },
     "execution_count": 269,
     "metadata": {},
     "output_type": "execute_result"
    }
   ],
   "source": [
    "null_df = coord_df[coord_df.isnull().any(axis=1)]\n",
    "null_df.head()"
   ]
  },
  {
   "cell_type": "code",
   "execution_count": 270,
   "metadata": {},
   "outputs": [
    {
     "name": "stdout",
     "output_type": "stream",
     "text": [
      "                    City  Latitude (generated)  Longitude (generated)\n",
      "8              Battagram               34.6765                73.0238\n",
      "10              Bhambore               24.7465                67.2010\n",
      "15               Chitral               35.8510                71.7864\n",
      "16         Chitral Lower               35.8510                71.7864\n",
      "17         Chitral Upper               36.0000                72.0000\n",
      "21                Diamer               35.5793                74.2012\n",
      "37              Jamshoro               25.4286                68.2820\n",
      "40     Kambar Shahdadkot               27.8475                67.9064\n",
      "45              Khairpur               27.5295                68.7592\n",
      "46              Khanewal               30.3017                71.9321\n",
      "47              Kharmang               34.5123                76.0905\n",
      "51        Kohistan Lower               35.0000                73.3500\n",
      "52        Kohistan upper               35.2500                73.6500\n",
      "53          Kolai Pallas               34.9850                72.9410\n",
      "54                Kurram               33.8132                70.1764\n",
      "69              Mohamand               34.4055                71.4332\n",
      "70               Mohmand               34.4055                71.4332\n",
      "78      North Waziristan               32.8250                69.1748\n",
      "82              Pakpatan               30.3410                73.3867\n",
      "86        Rahim Yar Khan               28.4212                70.2989\n",
      "91               Sahewal               30.6700                73.1100\n",
      "94   Shaheed Benazirabad               26.1574                68.3030\n",
      "97                Shigar               35.4229                75.7341\n",
      "99              Shujawal               24.5961                68.0352\n",
      "103              Sujawal               24.6070                68.0717\n",
      "111           Tharparkar               24.7395                70.2010\n",
      "114              Torghar               34.5000                72.9167\n",
      "115             Trarkhel               33.7722                73.7081\n"
     ]
    }
   ],
   "source": [
    "coordinates = {\n",
    "    \"Diamer\": (35.5793, 74.2012),\n",
    "    \"Jamshoro\": (25.4286, 68.2820),\n",
    "    \"Kambar Shahdadkot\": (27.8475, 67.9064),\n",
    "    \"Khairpur\": (27.5295, 68.7592),\n",
    "    \"Khanewal\": (30.3017, 71.9321),\n",
    "    \"Kharmang\": (34.5123, 76.0905),\n",
    "    \"Kohistan Lower\": (35.0000, 73.3500),\n",
    "    \"Kohistan upper\": (35.2500, 73.6500),\n",
    "    \"Kolai Pallas\": (34.9850, 72.9410),\n",
    "    \"Kurram\": (33.8132, 70.1764),\n",
    "    \"Mohamand\": (34.4055, 71.4332),\n",
    "    \"Mohmand\": (34.4055, 71.4332), \n",
    "    \"North Waziristan\": (32.8250, 69.1748),\n",
    "    \"Pakpatan\": (30.3410, 73.3867),\n",
    "    \"Sahewal\": (30.6700, 73.1100),\n",
    "    \"Shaheed Benazirabad\": (26.1574, 68.3030),\n",
    "    \"Shigar\": (35.4229, 75.7341),\n",
    "    \"Shujawal\": (24.5961, 68.0352),\n",
    "    \"Sujawal\": (24.6070, 68.0717),\n",
    "    \"Tharparkar\": (24.7395, 70.2010),\n",
    "    \"Torghar\": (34.5000, 72.9167),\n",
    "    \"Trarkhel\": (33.7722, 73.7081),\n",
    "    \"Battagram\": (34.6765, 73.0238),\n",
    "    \"Bhambore\": (24.7465, 67.2010),\n",
    "    \"Chitral\": (35.8510, 71.7864),\n",
    "    \"Chitral Lower\": (35.8510, 71.7864),  # Same as Chitral\n",
    "    \"Chitral Upper\": (36.0000, 72.0000),\n",
    "    \"Rahim Yar Khan\": (28.4212, 70.2989)\n",
    "\n",
    "}\n",
    "for city, (lat, lon) in coordinates.items():\n",
    "    coord_df.loc[coord_df[\"City\"] == city, [\"Latitude (generated)\", \"Longitude (generated)\"]] = lat, lon\n",
    "\n",
    "# Verify the updates\n",
    "print(coord_df.loc[coord_df[\"City\"].isin(coordinates.keys())])\n"
   ]
  },
  {
   "cell_type": "code",
   "execution_count": 271,
   "metadata": {},
   "outputs": [
    {
     "data": {
      "text/html": [
       "<div>\n",
       "<style scoped>\n",
       "    .dataframe tbody tr th:only-of-type {\n",
       "        vertical-align: middle;\n",
       "    }\n",
       "\n",
       "    .dataframe tbody tr th {\n",
       "        vertical-align: top;\n",
       "    }\n",
       "\n",
       "    .dataframe thead th {\n",
       "        text-align: right;\n",
       "    }\n",
       "</style>\n",
       "<table border=\"1\" class=\"dataframe\">\n",
       "  <thead>\n",
       "    <tr style=\"text-align: right;\">\n",
       "      <th></th>\n",
       "      <th>City</th>\n",
       "      <th>Latitude (generated)</th>\n",
       "      <th>Longitude (generated)</th>\n",
       "    </tr>\n",
       "  </thead>\n",
       "  <tbody>\n",
       "  </tbody>\n",
       "</table>\n",
       "</div>"
      ],
      "text/plain": [
       "Empty DataFrame\n",
       "Columns: [City, Latitude (generated), Longitude (generated)]\n",
       "Index: []"
      ]
     },
     "execution_count": 271,
     "metadata": {},
     "output_type": "execute_result"
    }
   ],
   "source": [
    "null_df = coord_df[coord_df.isnull().any(axis=1)]\n",
    "null_df.head()"
   ]
  },
  {
   "cell_type": "code",
   "execution_count": 272,
   "metadata": {},
   "outputs": [
    {
     "name": "stdout",
     "output_type": "stream",
     "text": [
      "0\n"
     ]
    }
   ],
   "source": [
    "# Check for duplicates\n",
    "print(covid_df.duplicated().sum())"
   ]
  },
  {
   "cell_type": "code",
   "execution_count": null,
   "metadata": {},
   "outputs": [],
   "source": [
    "covid_df = covid_df.copy() \n",
    "covid_df['Travel_history'] = covid_df['Travel_history'].str.title().str.strip()\n",
    "covid_df['City'] = covid_df['City'].str.title().str.strip()\n",
    "covid_df['Province'] = covid_df['Province'].str.title().str.strip()\n",
    "\n",
    "covid_df['Cases'] = covid_df['Cases'].fillna(0)\n",
    "covid_df['Deaths'] = covid_df['Deaths'].fillna(0)\n",
    "covid_df['Recovered'] = covid_df['Recovered'].fillna(0)\n",
    "\n",
    "covid_df['City'] = covid_df['City'].replace({'Dira Ismail Khan': 'Dera Ismail Khan'})"
   ]
  },
  {
   "cell_type": "code",
   "execution_count": 274,
   "metadata": {},
   "outputs": [],
   "source": [
    "# Convert the 'Date' column to datetime format\n",
    "covid_df['Date'] = pd.to_datetime(covid_df['Date'], format='%m/%d/%Y')"
   ]
  },
  {
   "cell_type": "code",
   "execution_count": 275,
   "metadata": {},
   "outputs": [
    {
     "name": "stdout",
     "output_type": "stream",
     "text": [
      "        Date  Cases  Deaths  Recovered\n",
      "0 2020-02-26      3       0          0\n",
      "1 2020-02-29      2       0          0\n",
      "2 2020-03-02      1       0          0\n",
      "3 2020-03-06      0       0          1\n",
      "4 2020-03-07      1       0          0\n"
     ]
    }
   ],
   "source": [
    "# Aggregate by date\n",
    "daily_totals = covid_df.groupby('Date').agg({\n",
    "    'Cases': 'sum',\n",
    "    'Deaths': 'sum',\n",
    "    'Recovered': 'sum'\n",
    "}).reset_index()\n",
    "\n",
    "print(daily_totals.head())"
   ]
  },
  {
   "cell_type": "code",
   "execution_count": 276,
   "metadata": {},
   "outputs": [
    {
     "data": {
      "text/html": [
       "<div>\n",
       "<style scoped>\n",
       "    .dataframe tbody tr th:only-of-type {\n",
       "        vertical-align: middle;\n",
       "    }\n",
       "\n",
       "    .dataframe tbody tr th {\n",
       "        vertical-align: top;\n",
       "    }\n",
       "\n",
       "    .dataframe thead th {\n",
       "        text-align: right;\n",
       "    }\n",
       "</style>\n",
       "<table border=\"1\" class=\"dataframe\">\n",
       "  <thead>\n",
       "    <tr style=\"text-align: right;\">\n",
       "      <th></th>\n",
       "      <th>Province</th>\n",
       "      <th>Cases</th>\n",
       "      <th>Deaths</th>\n",
       "      <th>Recovered</th>\n",
       "    </tr>\n",
       "  </thead>\n",
       "  <tbody>\n",
       "    <tr>\n",
       "      <th>0</th>\n",
       "      <td>Azad Jummu Kashmir</td>\n",
       "      <td>49</td>\n",
       "      <td>0</td>\n",
       "      <td>1</td>\n",
       "    </tr>\n",
       "    <tr>\n",
       "      <th>1</th>\n",
       "      <td>Baluchistan</td>\n",
       "      <td>415</td>\n",
       "      <td>5</td>\n",
       "      <td>167</td>\n",
       "    </tr>\n",
       "    <tr>\n",
       "      <th>2</th>\n",
       "      <td>Federal Administration Tribal Area</td>\n",
       "      <td>46</td>\n",
       "      <td>0</td>\n",
       "      <td>11</td>\n",
       "    </tr>\n",
       "    <tr>\n",
       "      <th>3</th>\n",
       "      <td>Gilgit-Baltistan</td>\n",
       "      <td>263</td>\n",
       "      <td>3</td>\n",
       "      <td>195</td>\n",
       "    </tr>\n",
       "    <tr>\n",
       "      <th>4</th>\n",
       "      <td>Islamabad Capital Territory</td>\n",
       "      <td>176</td>\n",
       "      <td>2</td>\n",
       "      <td>15</td>\n",
       "    </tr>\n",
       "    <tr>\n",
       "      <th>5</th>\n",
       "      <td>Khyber Pakhtunkhwa</td>\n",
       "      <td>1078</td>\n",
       "      <td>61</td>\n",
       "      <td>196</td>\n",
       "    </tr>\n",
       "    <tr>\n",
       "      <th>6</th>\n",
       "      <td>Punjab</td>\n",
       "      <td>3777</td>\n",
       "      <td>41</td>\n",
       "      <td>685</td>\n",
       "    </tr>\n",
       "    <tr>\n",
       "      <th>7</th>\n",
       "      <td>Sindh</td>\n",
       "      <td>2611</td>\n",
       "      <td>56</td>\n",
       "      <td>865</td>\n",
       "    </tr>\n",
       "  </tbody>\n",
       "</table>\n",
       "</div>"
      ],
      "text/plain": [
       "                             Province  Cases  Deaths  Recovered\n",
       "0                  Azad Jummu Kashmir     49       0          1\n",
       "1                         Baluchistan    415       5        167\n",
       "2  Federal Administration Tribal Area     46       0         11\n",
       "3                    Gilgit-Baltistan    263       3        195\n",
       "4         Islamabad Capital Territory    176       2         15\n",
       "5                  Khyber Pakhtunkhwa   1078      61        196\n",
       "6                              Punjab   3777      41        685\n",
       "7                               Sindh   2611      56        865"
      ]
     },
     "execution_count": 276,
     "metadata": {},
     "output_type": "execute_result"
    }
   ],
   "source": [
    "# Aggregate by province\n",
    "province_totals = covid_df.groupby('Province').agg({\n",
    "    'Cases': 'sum',\n",
    "    'Deaths': 'sum',\n",
    "    'Recovered': 'sum'\n",
    "}).reset_index()\n",
    "\n",
    "province_totals"
   ]
  },
  {
   "cell_type": "code",
   "execution_count": 277,
   "metadata": {},
   "outputs": [],
   "source": [
    "# Drop rows with missing coordinates (optional)\n",
    "coord_df = coord_df.dropna(subset=['Latitude (generated)', 'Longitude (generated)'])"
   ]
  },
  {
   "cell_type": "code",
   "execution_count": 278,
   "metadata": {},
   "outputs": [
    {
     "data": {
      "text/plain": [
       "City                     0\n",
       "Latitude (generated)     0\n",
       "Longitude (generated)    0\n",
       "dtype: int64"
      ]
     },
     "execution_count": 278,
     "metadata": {},
     "output_type": "execute_result"
    }
   ],
   "source": [
    "coord_df.isna().sum()"
   ]
  },
  {
   "cell_type": "code",
   "execution_count": 279,
   "metadata": {},
   "outputs": [],
   "source": [
    "coord_df = coord_df.rename(columns={\n",
    "    'Latitude (generated)': 'Latitude',\n",
    "    'Longitude (generated)': 'Longitude'\n",
    "})"
   ]
  },
  {
   "cell_type": "code",
   "execution_count": 280,
   "metadata": {},
   "outputs": [
    {
     "name": "stdout",
     "output_type": "stream",
     "text": [
      "        Date  Cases  Deaths  Recovered Travel_history  \\\n",
      "0 2020-02-26      1       0          0          China   \n",
      "1 2020-02-26      2       0          0    Iran/Taftan   \n",
      "2 2020-02-29      1       0          0          China   \n",
      "3 2020-02-29      1       0          0    Iran/Taftan   \n",
      "4 2020-03-02      1       0          0    Iran/Taftan   \n",
      "\n",
      "                      Province       City   Latitude  Longitude  \n",
      "0  Islamabad Capital Territory  Islamabad  33.719400    73.0741  \n",
      "1                        Sindh    Karachi  24.870900    67.1145  \n",
      "2  Islamabad Capital Territory  Islamabad  33.719400    73.0741  \n",
      "3                        Sindh    Karachi  24.870900    67.1145  \n",
      "4             Gilgit-Baltistan     Gilgit  35.918473    74.3335  \n"
     ]
    }
   ],
   "source": [
    "# Merge the datasets on 'City'\n",
    "merged_df = pd.merge(\n",
    "    covid_df,\n",
    "    coord_df,\n",
    "    on='City',\n",
    "    how='left'\n",
    ")\n",
    "\n",
    "# Check merged data\n",
    "print(merged_df.head())"
   ]
  },
  {
   "cell_type": "code",
   "execution_count": 281,
   "metadata": {},
   "outputs": [
    {
     "data": {
      "text/plain": [
       "Date              0\n",
       "Cases             0\n",
       "Deaths            0\n",
       "Recovered         0\n",
       "Travel_history    0\n",
       "Province          0\n",
       "City              0\n",
       "Latitude          1\n",
       "Longitude         1\n",
       "dtype: int64"
      ]
     },
     "execution_count": 281,
     "metadata": {},
     "output_type": "execute_result"
    }
   ],
   "source": [
    "merged_df.isna().sum()"
   ]
  },
  {
   "cell_type": "code",
   "execution_count": 283,
   "metadata": {},
   "outputs": [],
   "source": [
    "merged_df['Active Cases'] = merged_df['Cases'] - merged_df['Deaths'] - merged_df['Recovered']"
   ]
  },
  {
   "cell_type": "code",
   "execution_count": 284,
   "metadata": {},
   "outputs": [
    {
     "data": {
      "text/html": [
       "<div>\n",
       "<style scoped>\n",
       "    .dataframe tbody tr th:only-of-type {\n",
       "        vertical-align: middle;\n",
       "    }\n",
       "\n",
       "    .dataframe tbody tr th {\n",
       "        vertical-align: top;\n",
       "    }\n",
       "\n",
       "    .dataframe thead th {\n",
       "        text-align: right;\n",
       "    }\n",
       "</style>\n",
       "<table border=\"1\" class=\"dataframe\">\n",
       "  <thead>\n",
       "    <tr style=\"text-align: right;\">\n",
       "      <th></th>\n",
       "      <th>Date</th>\n",
       "      <th>Cases</th>\n",
       "      <th>Deaths</th>\n",
       "      <th>Recovered</th>\n",
       "      <th>Travel_history</th>\n",
       "      <th>Province</th>\n",
       "      <th>City</th>\n",
       "      <th>Latitude</th>\n",
       "      <th>Longitude</th>\n",
       "      <th>Active Cases</th>\n",
       "    </tr>\n",
       "  </thead>\n",
       "  <tbody>\n",
       "    <tr>\n",
       "      <th>0</th>\n",
       "      <td>2020-02-26</td>\n",
       "      <td>1</td>\n",
       "      <td>0</td>\n",
       "      <td>0</td>\n",
       "      <td>China</td>\n",
       "      <td>Islamabad Capital Territory</td>\n",
       "      <td>Islamabad</td>\n",
       "      <td>33.719400</td>\n",
       "      <td>73.0741</td>\n",
       "      <td>1</td>\n",
       "    </tr>\n",
       "    <tr>\n",
       "      <th>1</th>\n",
       "      <td>2020-02-26</td>\n",
       "      <td>2</td>\n",
       "      <td>0</td>\n",
       "      <td>0</td>\n",
       "      <td>Iran/Taftan</td>\n",
       "      <td>Sindh</td>\n",
       "      <td>Karachi</td>\n",
       "      <td>24.870900</td>\n",
       "      <td>67.1145</td>\n",
       "      <td>2</td>\n",
       "    </tr>\n",
       "    <tr>\n",
       "      <th>2</th>\n",
       "      <td>2020-02-29</td>\n",
       "      <td>1</td>\n",
       "      <td>0</td>\n",
       "      <td>0</td>\n",
       "      <td>China</td>\n",
       "      <td>Islamabad Capital Territory</td>\n",
       "      <td>Islamabad</td>\n",
       "      <td>33.719400</td>\n",
       "      <td>73.0741</td>\n",
       "      <td>1</td>\n",
       "    </tr>\n",
       "    <tr>\n",
       "      <th>3</th>\n",
       "      <td>2020-02-29</td>\n",
       "      <td>1</td>\n",
       "      <td>0</td>\n",
       "      <td>0</td>\n",
       "      <td>Iran/Taftan</td>\n",
       "      <td>Sindh</td>\n",
       "      <td>Karachi</td>\n",
       "      <td>24.870900</td>\n",
       "      <td>67.1145</td>\n",
       "      <td>1</td>\n",
       "    </tr>\n",
       "    <tr>\n",
       "      <th>4</th>\n",
       "      <td>2020-03-02</td>\n",
       "      <td>1</td>\n",
       "      <td>0</td>\n",
       "      <td>0</td>\n",
       "      <td>Iran/Taftan</td>\n",
       "      <td>Gilgit-Baltistan</td>\n",
       "      <td>Gilgit</td>\n",
       "      <td>35.918473</td>\n",
       "      <td>74.3335</td>\n",
       "      <td>1</td>\n",
       "    </tr>\n",
       "  </tbody>\n",
       "</table>\n",
       "</div>"
      ],
      "text/plain": [
       "        Date  Cases  Deaths  Recovered Travel_history  \\\n",
       "0 2020-02-26      1       0          0          China   \n",
       "1 2020-02-26      2       0          0    Iran/Taftan   \n",
       "2 2020-02-29      1       0          0          China   \n",
       "3 2020-02-29      1       0          0    Iran/Taftan   \n",
       "4 2020-03-02      1       0          0    Iran/Taftan   \n",
       "\n",
       "                      Province       City   Latitude  Longitude  Active Cases  \n",
       "0  Islamabad Capital Territory  Islamabad  33.719400    73.0741             1  \n",
       "1                        Sindh    Karachi  24.870900    67.1145             2  \n",
       "2  Islamabad Capital Territory  Islamabad  33.719400    73.0741             1  \n",
       "3                        Sindh    Karachi  24.870900    67.1145             1  \n",
       "4             Gilgit-Baltistan     Gilgit  35.918473    74.3335             1  "
      ]
     },
     "execution_count": 284,
     "metadata": {},
     "output_type": "execute_result"
    }
   ],
   "source": [
    "merged_df.head()"
   ]
  },
  {
   "cell_type": "code",
   "execution_count": 285,
   "metadata": {},
   "outputs": [],
   "source": [
    "merged_df.to_csv(\"Dataset/cleaned_data.csv\")"
   ]
  },
  {
   "cell_type": "code",
   "execution_count": null,
   "metadata": {},
   "outputs": [],
   "source": []
  }
 ],
 "metadata": {
  "kernelspec": {
   "display_name": "we_project_env",
   "language": "python",
   "name": "python3"
  },
  "language_info": {
   "codemirror_mode": {
    "name": "ipython",
    "version": 3
   },
   "file_extension": ".py",
   "mimetype": "text/x-python",
   "name": "python",
   "nbconvert_exporter": "python",
   "pygments_lexer": "ipython3",
   "version": "3.12.4"
  }
 },
 "nbformat": 4,
 "nbformat_minor": 2
}
